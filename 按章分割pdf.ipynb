{
 "cells": [
  {
   "cell_type": "code",
   "execution_count": 10,
   "metadata": {},
   "outputs": [],
   "source": [
    "pdf文件路径 = r\"C:\\Users\\billy\\Desktop\\temp\\英文原文-金融风险管理ML.pdf\""
   ]
  },
  {
   "cell_type": "code",
   "execution_count": 11,
   "metadata": {},
   "outputs": [],
   "source": [
    "输出目录 = r\"C:\\Users\\billy\\Desktop\\temp\""
   ]
  },
  {
   "cell_type": "code",
   "execution_count": 12,
   "metadata": {},
   "outputs": [],
   "source": [
    "章节页数 = [9,17,33,57,89,135,171,209,237,269,297,321,322]"
   ]
  },
  {
   "cell_type": "markdown",
   "metadata": {},
   "source": [
    "#### 以上区域是配置区域，每本书都要改，下面区域则是公用区域，可以复用不用改"
   ]
  },
  {
   "cell_type": "code",
   "execution_count": 13,
   "metadata": {},
   "outputs": [],
   "source": [
    "from PyPDF2 import PdfFileReader, PdfFileWriter\n",
    "import os\n",
    "\n",
    "# 将PDF文件每页分割为一个单独的文件，并保存至指定文件夹\n",
    "def pdf_split_1(pdf_input, path_output):\n",
    "    fname = os.path.splitext(os.path.basename(pdf_input))[0]  # 获取文件名，不含后缀名\n",
    "    pdf = PdfFileReader(pdf_input)\n",
    "    \n",
    "    for page in range(pdf.getNumPages()):\n",
    "        pdf_writer = PdfFileWriter()\n",
    "        pdf_writer.addPage(pdf.getPage(page))\n",
    "        output_filename = path_output + r'\\{}-{}.pdf'.format(fname, page+1)\n",
    "        # output_filename = os.path.join(path_output, '{}-{}.pdf'.format(fname, page+1))  # 等价\n",
    "\n",
    "        with open(output_filename, 'wb') as out:\n",
    "            pdf_writer.write(out)\n",
    "            # print('生成文件:{}'.format(output_filename))\n",
    "\n",
    "\n",
    "# 将目标PDF文件的start至end页分割保存至指定文件夹，start从1开始计数\n",
    "def pdf_split_by_start_and_end(pdf_input, path_output, start, end):\n",
    "    fname = os.path.splitext(os.path.basename(pdf_input))[0]  # 获取文件名，不含后缀名\n",
    "    pdf = PdfFileReader(pdf_input)\n",
    "    pdf_writer = PdfFileWriter()\n",
    "    output_filename = path_output\n",
    "#     output_filename = path_output + r'\\{}_{}-{}.pdf'.format(fname,start,end)\n",
    "    # output_filename = os.path.join(path_output, '{}_{}-{}.pdf'.format(fname,start,end))  # 等价\n",
    "\n",
    "    for page in range(start-1, end):\n",
    "        pdf_writer.addPage(pdf.getPage(page))\n",
    "\n",
    "    with open(output_filename, 'wb') as out:\n",
    "        pdf_writer.write(out)\n",
    "        # print('生成文件:{}'.format(output_filename))\n",
    "\n",
    "    \n",
    "# 将PDF文件分割为固定页数的多个文件,并保存至指定文件夹\n",
    "def pdf_split_3(pdf_input, path_output, num_file, num_page):\n",
    "    fname = os.path.splitext(os.path.basename(pdf_input))[0]  # 获取文件名，不含后缀名\n",
    "\n",
    "    for i in range(num_file):\n",
    "        with open(pdf_input, 'rb') as open_pdf:  # rb二进制打开读取，wb二进制打开写入\n",
    "            pdf_reader = PdfFileReader(open_pdf)\n",
    "            pdf_writer = PdfFileWriter()\n",
    "            \n",
    "            if (i+1)*num_page <= pdf_reader.numPages:\n",
    "                for page in range(i*num_page, (i+1)*num_page):\n",
    "                    pdf_writer.addPage(pdf_reader.getPage(page))\n",
    "                output_filename = path_output + r'\\{}_{}.pdf'.format(fname,i+1)\n",
    "                # output_filename = os.path.join(path_output, '{}_{}.pdf'.format(fname,i+1))  # 等价\n",
    "\n",
    "            else:\n",
    "                for page in range(i*num_page, pdf_reader.numPages):\n",
    "                    pdf_writer.addPage(pdf_reader.getPage(page))\n",
    "                output_filename = path_output + r'\\{}_{}.pdf'.format(fname,i+1)\n",
    "                # output_filename = os.path.join(path_output, '{}_{}.pdf'.format(fname,i+1))  # 等价\n",
    "\n",
    "            with open(output_filename, 'wb') as out:\n",
    "                pdf_writer.write(out)\n",
    "                # print('生成文件:{}'.format(output_filename))"
   ]
  },
  {
   "cell_type": "code",
   "execution_count": 14,
   "metadata": {},
   "outputs": [],
   "source": [
    "for index, v in enumerate(章节页数):\n",
    "    if index > 0:\n",
    "        current_file_path = 输出目录 + \"\\\\\" + str(index-1) +  \".pdf\"\n",
    "        pdf_split_by_start_and_end(pdf文件路径,current_file_path,章节页数[index-1],章节页数[index]-1)"
   ]
  }
 ],
 "metadata": {
  "kernelspec": {
   "display_name": "Python 3.8.0 64-bit",
   "language": "python",
   "name": "python3"
  },
  "language_info": {
   "codemirror_mode": {
    "name": "ipython",
    "version": 3
   },
   "file_extension": ".py",
   "mimetype": "text/x-python",
   "name": "python",
   "nbconvert_exporter": "python",
   "pygments_lexer": "ipython3",
   "version": "3.8.0"
  },
  "orig_nbformat": 4,
  "vscode": {
   "interpreter": {
    "hash": "570feb405e2e27c949193ac68f46852414290d515b0ba6e5d90d076ed2284471"
   }
  }
 },
 "nbformat": 4,
 "nbformat_minor": 2
}
