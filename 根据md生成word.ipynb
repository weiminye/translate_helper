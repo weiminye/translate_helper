{
 "cells": [
  {
   "cell_type": "code",
   "execution_count": 9,
   "metadata": {},
   "outputs": [],
   "source": [
    "\n",
    "\n",
    "截图目录 = r\"C:\\Users\\billy\\Desktop\\temp\\截图\"\n",
    "MD文件路径 = r\"C:\\Users\\billy\\Desktop\\temp\\示例.md\"\n",
    "输出Word文件路径 = r\"C:\\Users\\billy\\Desktop\\temp\\示例.docx\""
   ]
  },
  {
   "cell_type": "markdown",
   "metadata": {},
   "source": [
    "#### 以上区域是配置区域，每本书都要改，下面区域则是公用区域，可以复用不用改"
   ]
  },
  {
   "cell_type": "code",
   "execution_count": 10,
   "metadata": {},
   "outputs": [
    {
     "data": {
      "text/plain": [
       "['C:\\\\Users\\\\billy\\\\Desktop\\\\temp\\\\截图\\\\Snipaste_2022-10-10_12-27-54.png',\n",
       " 'C:\\\\Users\\\\billy\\\\Desktop\\\\temp\\\\截图\\\\Snipaste_2022-10-10_12-27-59.png',\n",
       " 'C:\\\\Users\\\\billy\\\\Desktop\\\\temp\\\\截图\\\\Snipaste_2022-10-10_12-28-07.png']"
      ]
     },
     "execution_count": 10,
     "metadata": {},
     "output_type": "execute_result"
    }
   ],
   "source": [
    "import os\n",
    "# 读取目录下的所有png图片\n",
    "png_list = []\n",
    "for root, dirs, files in os.walk(截图目录):\n",
    "    for file in files:\n",
    "        if file.endswith('.png'):\n",
    "            png_list.append(os.path.join(root, file))\n",
    "png_list"
   ]
  },
  {
   "cell_type": "code",
   "execution_count": 11,
   "metadata": {},
   "outputs": [],
   "source": [
    "from docx import Document\n",
    "from docx.shared import Cm,Inches\n",
    "from docx.enum.text import WD_COLOR_INDEX"
   ]
  },
  {
   "cell_type": "code",
   "execution_count": 12,
   "metadata": {},
   "outputs": [],
   "source": [
    "document = Document()\n",
    "imageindex = 0\n",
    "# 按行读取md文件\n",
    "with open(MD文件路径, 'r', encoding='utf-8') as f:\n",
    "    lines = f.readlines()\n",
    "    # 遍历lines\n",
    "    for line in lines:        \n",
    "        if line.strip() != '':\n",
    "            if line.strip().lower() == 'p' or line.strip().startswith('![[Snipaste_'):\n",
    "                if imageindex < len(png_list):                \n",
    "                    document.add_picture(png_list[imageindex], width=Inches(6.5))\n",
    "                    imageindex += 1\n",
    "                else:\n",
    "                    document.add_paragraph().add_run('截图数量不符，请检查。').font.highlight_color = WD_COLOR_INDEX.RED\n",
    "                continue\n",
    "            elif line.startswith('####'):\n",
    "                document.add_heading(line.replace('#', '').strip(), level=4)\n",
    "            elif line.startswith('###'):\n",
    "                document.add_heading(line.replace('#', '').strip(), level=3)\n",
    "            elif line.startswith('##'):\n",
    "                document.add_heading(line.replace('#', '').strip(), level=2)\n",
    "            elif line.startswith('#'):\n",
    "                document.add_heading(line.replace('#', '').strip(), level=1)\n",
    "            else:\n",
    "                p = document.add_paragraph(line.strip())\n",
    "                p.paragraph_format.first_line_indent = Cm(0.74)\n",
    "\n",
    "document.save(输出Word文件路径)"
   ]
  }
 ],
 "metadata": {
  "kernelspec": {
   "display_name": "Python 3.8.0 64-bit",
   "language": "python",
   "name": "python3"
  },
  "language_info": {
   "codemirror_mode": {
    "name": "ipython",
    "version": 3
   },
   "file_extension": ".py",
   "mimetype": "text/x-python",
   "name": "python",
   "nbconvert_exporter": "python",
   "pygments_lexer": "ipython3",
   "version": "3.8.0"
  },
  "orig_nbformat": 4,
  "vscode": {
   "interpreter": {
    "hash": "570feb405e2e27c949193ac68f46852414290d515b0ba6e5d90d076ed2284471"
   }
  }
 },
 "nbformat": 4,
 "nbformat_minor": 2
}
